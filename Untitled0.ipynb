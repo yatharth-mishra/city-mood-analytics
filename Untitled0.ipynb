{
  "nbformat": 4,
  "nbformat_minor": 0,
  "metadata": {
    "colab": {
      "provenance": [],
      "authorship_tag": "ABX9TyPaf4Q9Zg1jyXni9zdT+L5d",
      "include_colab_link": true
    },
    "kernelspec": {
      "name": "python3",
      "display_name": "Python 3"
    },
    "language_info": {
      "name": "python"
    }
  },
  "cells": [
    {
      "cell_type": "markdown",
      "metadata": {
        "id": "view-in-github",
        "colab_type": "text"
      },
      "source": [
        "<a href=\"https://colab.research.google.com/github/yatharth-mishra/city-mood-analytics/blob/main/Untitled0.ipynb\" target=\"_parent\"><img src=\"https://colab.research.google.com/assets/colab-badge.svg\" alt=\"Open In Colab\"/></a>"
      ]
    },
    {
      "cell_type": "code",
      "execution_count": null,
      "metadata": {
        "id": "TtJO_Xz6AWHb",
        "outputId": "dc19e4b8-4166-4949-c018-535dc9da1b46",
        "colab": {
          "base_uri": "https://localhost:8080/"
        }
      },
      "outputs": [
        {
          "output_type": "stream",
          "name": "stdout",
          "text": [
            "Cloning into 'city-mood-analytics'...\n",
            "remote: Enumerating objects: 18, done.\u001b[K\n",
            "remote: Counting objects: 100% (18/18), done.\u001b[K\n",
            "remote: Compressing objects: 100% (16/16), done.\u001b[K\n",
            "remote: Total 18 (delta 3), reused 0 (delta 0), pack-reused 0 (from 0)\u001b[K\n",
            "Receiving objects: 100% (18/18), 16.66 KiB | 5.55 MiB/s, done.\n",
            "Resolving deltas: 100% (3/3), done.\n"
          ]
        }
      ],
      "source": [
        "!git clone https://github.com/yatharth-mishra/city-mood-analytics.git\n",
        "\n"
      ]
    },
    {
      "cell_type": "code",
      "metadata": {
        "colab": {
          "base_uri": "https://localhost:8080/"
        },
        "id": "c16a8b9f",
        "outputId": "6f526b10-3da3-4a0a-b7f3-c0cd72dbbc6f"
      },
      "source": [
        "!ls /content/city-mood-analytics\n"
      ],
      "execution_count": 2,
      "outputs": [
        {
          "output_type": "stream",
          "name": "stdout",
          "text": [
            "00_setup.ipynb\t01_data_cleaning.ipynb\tREADME.md\n"
          ]
        }
      ]
    },
    {
      "cell_type": "code",
      "source": [
        "import os\n",
        "\n",
        "# Create folders if not exists\n",
        "os.makedirs(\"content/data/cleaned\", exist_ok=True)\n",
        "\n",
        "import pandas as pd\n",
        "\n",
        "url = \"https://raw.githubusercontent.com/owid/co2-data/master/owid-co2-data.csv\"\n",
        "df = pd.read_csv(url)\n",
        "\n",
        "# Quick info\n",
        "print(\"Columns and missing data:\")\n",
        "df.info()\n",
        "\n",
        "# Sort by country and year\n",
        "df = df.sort_values(by=['country', 'year'])\n",
        "\n",
        "# Forward fill population and GDP per country\n",
        "df['population'] = df.groupby('country')['population'].ffill()\n",
        "df['gdp'] = df.groupby('country')['gdp'].ffill()\n",
        "\n",
        "# Calculate gdp_per_capita\n",
        "df['gdp_per_capita'] = df['gdp'] / df['population']\n",
        "\n",
        "# Filter rows where GDP and CO2 exist\n",
        "df_clean = df.dropna(subset=['gdp', 'co2']).reset_index(drop=True)\n",
        "\n",
        "# Quick check\n",
        "df_clean.info()\n",
        "\n",
        "output_path = \"content/data/cleaned/owid_co2_cleaned.csv\"\n",
        "df_clean.to_csv(output_path, index=False)\n",
        "print(f\"✅ Cleaned dataset saved to: {output_path}\")\n"
      ],
      "metadata": {
        "colab": {
          "base_uri": "https://localhost:8080/"
        },
        "id": "2Fwm3qomCEPN",
        "outputId": "b114ef3b-00fd-403c-acd1-e6c5570cb44d"
      },
      "execution_count": 4,
      "outputs": [
        {
          "output_type": "stream",
          "name": "stdout",
          "text": [
            "Columns and missing data:\n",
            "<class 'pandas.core.frame.DataFrame'>\n",
            "RangeIndex: 50191 entries, 0 to 50190\n",
            "Data columns (total 79 columns):\n",
            " #   Column                                     Non-Null Count  Dtype  \n",
            "---  ------                                     --------------  -----  \n",
            " 0   country                                    50191 non-null  object \n",
            " 1   year                                       50191 non-null  int64  \n",
            " 2   iso_code                                   42262 non-null  object \n",
            " 3   population                                 41019 non-null  float64\n",
            " 4   gdp                                        15251 non-null  float64\n",
            " 5   cement_co2                                 28863 non-null  float64\n",
            " 6   cement_co2_per_capita                      25358 non-null  float64\n",
            " 7   co2                                        29137 non-null  float64\n",
            " 8   co2_growth_abs                             26981 non-null  float64\n",
            " 9   co2_growth_prct                            26002 non-null  float64\n",
            " 10  co2_including_luc                          23585 non-null  float64\n",
            " 11  co2_including_luc_growth_abs               23285 non-null  float64\n",
            " 12  co2_including_luc_growth_prct              23285 non-null  float64\n",
            " 13  co2_including_luc_per_capita               23495 non-null  float64\n",
            " 14  co2_including_luc_per_gdp                  16790 non-null  float64\n",
            " 15  co2_including_luc_per_unit_energy          9701 non-null   float64\n",
            " 16  co2_per_capita                             26182 non-null  float64\n",
            " 17  co2_per_gdp                                17528 non-null  float64\n",
            " 18  co2_per_unit_energy                        10350 non-null  float64\n",
            " 19  coal_co2                                   21755 non-null  float64\n",
            " 20  coal_co2_per_capita                        21050 non-null  float64\n",
            " 21  consumption_co2                            4866 non-null   float64\n",
            " 22  consumption_co2_per_capita                 4502 non-null   float64\n",
            " 23  consumption_co2_per_gdp                    4444 non-null   float64\n",
            " 24  cumulative_cement_co2                      28841 non-null  float64\n",
            " 25  cumulative_co2                             27328 non-null  float64\n",
            " 26  cumulative_co2_including_luc               23585 non-null  float64\n",
            " 27  cumulative_coal_co2                        21755 non-null  float64\n",
            " 28  cumulative_flaring_co2                     15891 non-null  float64\n",
            " 29  cumulative_gas_co2                         18014 non-null  float64\n",
            " 30  cumulative_luc_co2                         37236 non-null  float64\n",
            " 31  cumulative_oil_co2                         25217 non-null  float64\n",
            " 32  cumulative_other_co2                       3202 non-null   float64\n",
            " 33  energy_per_capita                          10109 non-null  float64\n",
            " 34  energy_per_gdp                             7696 non-null   float64\n",
            " 35  flaring_co2                                15952 non-null  float64\n",
            " 36  flaring_co2_per_capita                     14694 non-null  float64\n",
            " 37  gas_co2                                    18014 non-null  float64\n",
            " 38  gas_co2_per_capita                         17292 non-null  float64\n",
            " 39  ghg_excluding_lucf_per_capita              35639 non-null  float64\n",
            " 40  ghg_per_capita                             35813 non-null  float64\n",
            " 41  land_use_change_co2                        37236 non-null  float64\n",
            " 42  land_use_change_co2_per_capita             36434 non-null  float64\n",
            " 43  methane                                    37410 non-null  float64\n",
            " 44  methane_per_capita                         35813 non-null  float64\n",
            " 45  nitrous_oxide                              38280 non-null  float64\n",
            " 46  nitrous_oxide_per_capita                   36320 non-null  float64\n",
            " 47  oil_co2                                    25218 non-null  float64\n",
            " 48  oil_co2_per_capita                         24436 non-null  float64\n",
            " 49  other_co2_per_capita                       2474 non-null   float64\n",
            " 50  other_industry_co2                         3202 non-null   float64\n",
            " 51  primary_energy_consumption                 10151 non-null  float64\n",
            " 52  share_global_cement_co2                    21960 non-null  float64\n",
            " 53  share_global_co2                           27328 non-null  float64\n",
            " 54  share_global_co2_including_luc             23585 non-null  float64\n",
            " 55  share_global_coal_co2                      21755 non-null  float64\n",
            " 56  share_global_cumulative_cement_co2         21960 non-null  float64\n",
            " 57  share_global_cumulative_co2                27328 non-null  float64\n",
            " 58  share_global_cumulative_co2_including_luc  23585 non-null  float64\n",
            " 59  share_global_cumulative_coal_co2           21755 non-null  float64\n",
            " 60  share_global_cumulative_flaring_co2        10869 non-null  float64\n",
            " 61  share_global_cumulative_gas_co2            15034 non-null  float64\n",
            " 62  share_global_cumulative_luc_co2            37236 non-null  float64\n",
            " 63  share_global_cumulative_oil_co2            23592 non-null  float64\n",
            " 64  share_global_cumulative_other_co2          2108 non-null   float64\n",
            " 65  share_global_flaring_co2                   10869 non-null  float64\n",
            " 66  share_global_gas_co2                       15034 non-null  float64\n",
            " 67  share_global_luc_co2                       37236 non-null  float64\n",
            " 68  share_global_oil_co2                       23592 non-null  float64\n",
            " 69  share_global_other_co2                     2108 non-null   float64\n",
            " 70  share_of_temperature_change_from_ghg       41001 non-null  float64\n",
            " 71  temperature_change_from_ch4                38060 non-null  float64\n",
            " 72  temperature_change_from_co2                41001 non-null  float64\n",
            " 73  temperature_change_from_ghg                41001 non-null  float64\n",
            " 74  temperature_change_from_n2o                38060 non-null  float64\n",
            " 75  total_ghg                                  37410 non-null  float64\n",
            " 76  total_ghg_excluding_lucf                   37236 non-null  float64\n",
            " 77  trade_co2                                  4535 non-null   float64\n",
            " 78  trade_co2_share                            4535 non-null   float64\n",
            "dtypes: float64(76), int64(1), object(2)\n",
            "memory usage: 30.3+ MB\n",
            "<class 'pandas.core.frame.DataFrame'>\n",
            "RangeIndex: 16487 entries, 0 to 16486\n",
            "Data columns (total 80 columns):\n",
            " #   Column                                     Non-Null Count  Dtype  \n",
            "---  ------                                     --------------  -----  \n",
            " 0   country                                    16487 non-null  object \n",
            " 1   year                                       16487 non-null  int64  \n",
            " 2   iso_code                                   16283 non-null  object \n",
            " 3   population                                 16487 non-null  float64\n",
            " 4   gdp                                        16487 non-null  float64\n",
            " 5   cement_co2                                 13172 non-null  float64\n",
            " 6   cement_co2_per_capita                      13109 non-null  float64\n",
            " 7   co2                                        16487 non-null  float64\n",
            " 8   co2_growth_abs                             16363 non-null  float64\n",
            " 9   co2_growth_prct                            16191 non-null  float64\n",
            " 10  co2_including_luc                          15820 non-null  float64\n",
            " 11  co2_including_luc_growth_abs               15688 non-null  float64\n",
            " 12  co2_including_luc_growth_prct              15688 non-null  float64\n",
            " 13  co2_including_luc_per_capita               15730 non-null  float64\n",
            " 14  co2_including_luc_per_gdp                  14272 non-null  float64\n",
            " 15  co2_including_luc_per_unit_energy          7704 non-null   float64\n",
            " 16  co2_per_capita                             16370 non-null  float64\n",
            " 17  co2_per_gdp                                14693 non-null  float64\n",
            " 18  co2_per_unit_energy                        7822 non-null   float64\n",
            " 19  coal_co2                                   13578 non-null  float64\n",
            " 20  coal_co2_per_capita                        13461 non-null  float64\n",
            " 21  consumption_co2                            3940 non-null   float64\n",
            " 22  consumption_co2_per_capita                 3940 non-null   float64\n",
            " 23  consumption_co2_per_gdp                    3915 non-null   float64\n",
            " 24  cumulative_cement_co2                      13172 non-null  float64\n",
            " 25  cumulative_co2                             16487 non-null  float64\n",
            " 26  cumulative_co2_including_luc               15820 non-null  float64\n",
            " 27  cumulative_coal_co2                        13578 non-null  float64\n",
            " 28  cumulative_flaring_co2                     7761 non-null   float64\n",
            " 29  cumulative_gas_co2                         10855 non-null  float64\n",
            " 30  cumulative_luc_co2                         15820 non-null  float64\n",
            " 31  cumulative_oil_co2                         15508 non-null  float64\n",
            " 32  cumulative_other_co2                       1861 non-null   float64\n",
            " 33  energy_per_capita                          7822 non-null   float64\n",
            " 34  energy_per_gdp                             7685 non-null   float64\n",
            " 35  flaring_co2                                7761 non-null   float64\n",
            " 36  flaring_co2_per_capita                     7761 non-null   float64\n",
            " 37  gas_co2                                    10855 non-null  float64\n",
            " 38  gas_co2_per_capita                         10793 non-null  float64\n",
            " 39  ghg_excluding_lucf_per_capita              15878 non-null  float64\n",
            " 40  ghg_per_capita                             15950 non-null  float64\n",
            " 41  land_use_change_co2                        15820 non-null  float64\n",
            " 42  land_use_change_co2_per_capita             15730 non-null  float64\n",
            " 43  methane                                    16040 non-null  float64\n",
            " 44  methane_per_capita                         15950 non-null  float64\n",
            " 45  nitrous_oxide                              16040 non-null  float64\n",
            " 46  nitrous_oxide_per_capita                   15950 non-null  float64\n",
            " 47  oil_co2                                    15508 non-null  float64\n",
            " 48  oil_co2_per_capita                         15422 non-null  float64\n",
            " 49  other_co2_per_capita                       1744 non-null   float64\n",
            " 50  other_industry_co2                         1861 non-null   float64\n",
            " 51  primary_energy_consumption                 7822 non-null   float64\n",
            " 52  share_global_cement_co2                    13078 non-null  float64\n",
            " 53  share_global_co2                           16487 non-null  float64\n",
            " 54  share_global_co2_including_luc             15820 non-null  float64\n",
            " 55  share_global_coal_co2                      13578 non-null  float64\n",
            " 56  share_global_cumulative_cement_co2         13078 non-null  float64\n",
            " 57  share_global_cumulative_co2                16487 non-null  float64\n",
            " 58  share_global_cumulative_co2_including_luc  15820 non-null  float64\n",
            " 59  share_global_cumulative_coal_co2           13578 non-null  float64\n",
            " 60  share_global_cumulative_flaring_co2        7286 non-null   float64\n",
            " 61  share_global_cumulative_gas_co2            9884 non-null   float64\n",
            " 62  share_global_cumulative_luc_co2            15820 non-null  float64\n",
            " 63  share_global_cumulative_oil_co2            15098 non-null  float64\n",
            " 64  share_global_cumulative_other_co2          1564 non-null   float64\n",
            " 65  share_global_flaring_co2                   7286 non-null   float64\n",
            " 66  share_global_gas_co2                       9884 non-null   float64\n",
            " 67  share_global_luc_co2                       15820 non-null  float64\n",
            " 68  share_global_oil_co2                       15098 non-null  float64\n",
            " 69  share_global_other_co2                     1564 non-null   float64\n",
            " 70  share_of_temperature_change_from_ghg       16056 non-null  float64\n",
            " 71  temperature_change_from_ch4                16022 non-null  float64\n",
            " 72  temperature_change_from_co2                16056 non-null  float64\n",
            " 73  temperature_change_from_ghg                16056 non-null  float64\n",
            " 74  temperature_change_from_n2o                16022 non-null  float64\n",
            " 75  total_ghg                                  16040 non-null  float64\n",
            " 76  total_ghg_excluding_lucf                   15968 non-null  float64\n",
            " 77  trade_co2                                  3940 non-null   float64\n",
            " 78  trade_co2_share                            3940 non-null   float64\n",
            " 79  gdp_per_capita                             16487 non-null  float64\n",
            "dtypes: float64(77), int64(1), object(2)\n",
            "memory usage: 10.1+ MB\n",
            "✅ Cleaned dataset saved to: content/data/cleaned/owid_co2_cleaned.csv\n"
          ]
        }
      ]
    },
    {
      "cell_type": "code",
      "source": [
        "!git clone https://github.com/yatharth-mishra/city-mood-analytics.git\n",
        "%cd /content/city-mood-analytics\n",
        "!mkdir -p content/data/cleaned\n",
        "!mv /content/content/data/cleaned/owid_co2_cleaned.csv content/data/cleaned/\n",
        "!git add content/data/cleaned/owid_co2_cleaned.csv\n",
        "!git commit -m \"Added cleaned CO₂ dataset after preprocessing\"\n",
        "!git push\n"
      ],
      "metadata": {
        "colab": {
          "base_uri": "https://localhost:8080/"
        },
        "id": "_QiyXXwVDGcj",
        "outputId": "78f138f0-1dc9-46de-897e-6d93830ff167"
      },
      "execution_count": 6,
      "outputs": [
        {
          "output_type": "stream",
          "name": "stdout",
          "text": [
            "fatal: destination path 'city-mood-analytics' already exists and is not an empty directory.\n",
            "/content/city-mood-analytics\n",
            "Author identity unknown\n",
            "\n",
            "*** Please tell me who you are.\n",
            "\n",
            "Run\n",
            "\n",
            "  git config --global user.email \"you@example.com\"\n",
            "  git config --global user.name \"Your Name\"\n",
            "\n",
            "to set your account's default identity.\n",
            "Omit --global to set the identity only in this repository.\n",
            "\n",
            "fatal: unable to auto-detect email address (got 'root@b94d9f3a39c1.(none)')\n",
            "fatal: could not read Username for 'https://github.com': No such device or address\n"
          ]
        }
      ]
    }
  ]
}